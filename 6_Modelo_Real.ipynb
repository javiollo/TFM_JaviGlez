{
 "cells": [
  {
   "cell_type": "code",
   "execution_count": 1,
   "metadata": {
    "collapsed": true
   },
   "outputs": [],
   "source": [
    "# Importamos los modulos necesarios\n",
    "\n",
    "import pandas as pd \n",
    "from sklearn.feature_extraction.text import CountVectorizer\n",
    "from sklearn.naive_bayes import MultinomialNB\n",
    "from sklearn.svm import LinearSVC, SVC, NuSVR, OneClassSVM\n",
    "\n",
    "%matplotlib inline\n"
   ]
  },
  {
   "cell_type": "code",
   "execution_count": 2,
   "metadata": {},
   "outputs": [
    {
     "data": {
      "text/html": [
       "<div>\n",
       "<style>\n",
       "    .dataframe thead tr:only-child th {\n",
       "        text-align: right;\n",
       "    }\n",
       "\n",
       "    .dataframe thead th {\n",
       "        text-align: left;\n",
       "    }\n",
       "\n",
       "    .dataframe tbody tr th {\n",
       "        vertical-align: top;\n",
       "    }\n",
       "</style>\n",
       "<table border=\"1\" class=\"dataframe\">\n",
       "  <thead>\n",
       "    <tr style=\"text-align: right;\">\n",
       "      <th></th>\n",
       "      <th>label</th>\n",
       "      <th>texto</th>\n",
       "    </tr>\n",
       "    <tr>\n",
       "      <th>kk</th>\n",
       "      <th></th>\n",
       "      <th></th>\n",
       "    </tr>\n",
       "  </thead>\n",
       "  <tbody>\n",
       "    <tr>\n",
       "      <th>0</th>\n",
       "      <td>neg</td>\n",
       "      <td>que majos mis compis de verti que me ponen a l...</td>\n",
       "    </tr>\n",
       "    <tr>\n",
       "      <th>0</th>\n",
       "      <td>neg</td>\n",
       "      <td>wow verti refresco en mi taza de cafe el sprit...</td>\n",
       "    </tr>\n",
       "    <tr>\n",
       "      <th>0</th>\n",
       "      <td>neg</td>\n",
       "      <td>rariasg venga vaaaaaa nos lo pensaremos de mom...</td>\n",
       "    </tr>\n",
       "    <tr>\n",
       "      <th>0</th>\n",
       "      <td>neg</td>\n",
       "      <td>rmmoreno ya estamos en el mercado nos tienes o...</td>\n",
       "    </tr>\n",
       "    <tr>\n",
       "      <th>0</th>\n",
       "      <td>neg</td>\n",
       "      <td>le he dado una oportunidad a verti .es con el ...</td>\n",
       "    </tr>\n",
       "  </tbody>\n",
       "</table>\n",
       "</div>"
      ],
      "text/plain": [
       "   label                                              texto\n",
       "kk                                                         \n",
       "0    neg  que majos mis compis de verti que me ponen a l...\n",
       "0    neg  wow verti refresco en mi taza de cafe el sprit...\n",
       "0    neg  rariasg venga vaaaaaa nos lo pensaremos de mom...\n",
       "0    neg  rmmoreno ya estamos en el mercado nos tienes o...\n",
       "0    neg  le he dado una oportunidad a verti .es con el ..."
      ]
     },
     "execution_count": 2,
     "metadata": {},
     "output_type": "execute_result"
    }
   ],
   "source": [
    "#Importamos el ichero de entrada para entrenar el modelo\n",
    "df = pd.DataFrame.from_csv('DATA_SALIDA/posneg2.csv', sep='|')\n",
    "df.head()"
   ]
  },
  {
   "cell_type": "code",
   "execution_count": 3,
   "metadata": {
    "collapsed": true
   },
   "outputs": [],
   "source": [
    "#Separamos los campos\n",
    "texto = list(df['texto'])\n",
    "labels = list(df['label'])\n"
   ]
  },
  {
   "cell_type": "code",
   "execution_count": 4,
   "metadata": {
    "collapsed": true
   },
   "outputs": [],
   "source": [
    "# Dividimos el fichero de entrada en test y train\n",
    "# Fichero de entrenamiento: 70% del total\n",
    "tamtrain = int(len(texto) * 0.7)\n",
    "\n",
    "# Creamos los ficheros\n",
    "train_texto = texto[:tamtrain]\n",
    "train_labels = labels[:tamtrain]\n",
    "\n",
    "test_texto = texto[tamtrain:]\n",
    "test_labels = labels[tamtrain:]\n",
    "\n"
   ]
  },
  {
   "cell_type": "code",
   "execution_count": 5,
   "metadata": {},
   "outputs": [
    {
     "data": {
      "text/plain": [
       "<6895x14779 sparse matrix of type '<type 'numpy.int64'>'\n",
       "\twith 105063 stored elements in Compressed Sparse Row format>"
      ]
     },
     "execution_count": 5,
     "metadata": {},
     "output_type": "execute_result"
    }
   ],
   "source": [
    "# Convertimos el texto en un vector 'bolsa de palabras' (bag of words)\n",
    "vectorizer = CountVectorizer()\n",
    "\n",
    "#Ajustamos con el fichero de entreno\n",
    "vectorizer.fit(train_texto)\n",
    "vectorizer\n",
    "#Vectorizamos dicho texto\n",
    "train_features = vectorizer.transform(train_texto)\n",
    "train_features\n"
   ]
  },
  {
   "cell_type": "code",
   "execution_count": 6,
   "metadata": {},
   "outputs": [
    {
     "name": "stdout",
     "output_type": "stream",
     "text": [
      "Wall time: 0 ns\n"
     ]
    },
    {
     "data": {
      "text/plain": [
       "LinearSVC(C=1.0, class_weight=None, dual=True, fit_intercept=True,\n",
       "     intercept_scaling=1, loss='squared_hinge', max_iter=1000,\n",
       "     multi_class='ovr', penalty='l2', random_state=None, tol=0.0001,\n",
       "     verbose=0)"
      ]
     },
     "execution_count": 6,
     "metadata": {},
     "output_type": "execute_result"
    }
   ],
   "source": [
    "%time\n",
    "#Seleccionamos el clasificador y lo entrenamos\n",
    "#classifier = MultinomialNB()\n",
    "classifier = LinearSVC()\n",
    "classifier.fit(train_features.toarray(), train_labels)\n"
   ]
  },
  {
   "cell_type": "code",
   "execution_count": 7,
   "metadata": {},
   "outputs": [
    {
     "name": "stdout",
     "output_type": "stream",
     "text": [
      "[[ 0.00477932 -0.20687613  0.         ...,  0.          0.          0.        ]]\n",
      "[-0.00543447]\n",
      "{'loss': 'squared_hinge', 'C': 1.0, 'verbose': 0, 'intercept_scaling': 1, 'fit_intercept': True, 'max_iter': 1000, 'penalty': 'l2', 'multi_class': 'ovr', 'random_state': None, 'dual': True, 'tol': 0.0001, 'class_weight': None}\n"
     ]
    }
   ],
   "source": [
    "#Las caracteristicas del modelo son las siguientes\n",
    "print classifier.coef_\n",
    "print classifier.intercept_\n",
    "print classifier.get_params()"
   ]
  },
  {
   "cell_type": "code",
   "execution_count": 8,
   "metadata": {},
   "outputs": [
    {
     "data": {
      "text/plain": [
       "0.85284167794316645"
      ]
     },
     "execution_count": 8,
     "metadata": {},
     "output_type": "execute_result"
    }
   ],
   "source": [
    "#Vectorizamos el DF de test y calculamos el % de acierto del modelo\n",
    "test_features = vectorizer.transform(test_texto)\n",
    "classifier.score(test_features, test_labels)"
   ]
  },
  {
   "cell_type": "code",
   "execution_count": 9,
   "metadata": {},
   "outputs": [
    {
     "name": "stdout",
     "output_type": "stream",
     "text": [
      "predicted:  pos\n",
      "actual:  pos\n",
      "texto:\n",
      "solucionado. gracias vertiseguros .\n"
     ]
    }
   ],
   "source": [
    "#Vmos unos casos\n",
    "texto = test_texto[0]\n",
    "label = test_labels[0]\n",
    "features = vectorizer.transform([texto])\n",
    "print \"predicted: \", classifier.predict(features)[0]\n",
    "print \"actual: \", label\n",
    "print \"texto:\"\n",
    "print texto\n"
   ]
  },
  {
   "cell_type": "markdown",
   "metadata": {},
   "source": [
    "Ahora que ya tenemos el modelo, lo vamos a pasar a los datos reales\n"
   ]
  },
  {
   "cell_type": "code",
   "execution_count": 10,
   "metadata": {},
   "outputs": [
    {
     "data": {
      "text/html": [
       "<div>\n",
       "<style>\n",
       "    .dataframe thead tr:only-child th {\n",
       "        text-align: right;\n",
       "    }\n",
       "\n",
       "    .dataframe thead th {\n",
       "        text-align: left;\n",
       "    }\n",
       "\n",
       "    .dataframe tbody tr th {\n",
       "        vertical-align: top;\n",
       "    }\n",
       "</style>\n",
       "<table border=\"1\" class=\"dataframe\">\n",
       "  <thead>\n",
       "    <tr style=\"text-align: right;\">\n",
       "      <th></th>\n",
       "      <th>username</th>\n",
       "      <th>date</th>\n",
       "      <th>retweets</th>\n",
       "      <th>favorites</th>\n",
       "      <th>text</th>\n",
       "      <th>geo</th>\n",
       "      <th>mentions</th>\n",
       "      <th>hashtags</th>\n",
       "      <th>tid</th>\n",
       "      <th>fecha</th>\n",
       "      <th>...</th>\n",
       "      <th>hora</th>\n",
       "      <th>minuto</th>\n",
       "      <th>value</th>\n",
       "      <th>palapos</th>\n",
       "      <th>palaneg</th>\n",
       "      <th>txtnosw</th>\n",
       "      <th>tipo</th>\n",
       "      <th>twpos</th>\n",
       "      <th>twneu</th>\n",
       "      <th>twneg</th>\n",
       "    </tr>\n",
       "    <tr>\n",
       "      <th>date</th>\n",
       "      <th></th>\n",
       "      <th></th>\n",
       "      <th></th>\n",
       "      <th></th>\n",
       "      <th></th>\n",
       "      <th></th>\n",
       "      <th></th>\n",
       "      <th></th>\n",
       "      <th></th>\n",
       "      <th></th>\n",
       "      <th></th>\n",
       "      <th></th>\n",
       "      <th></th>\n",
       "      <th></th>\n",
       "      <th></th>\n",
       "      <th></th>\n",
       "      <th></th>\n",
       "      <th></th>\n",
       "      <th></th>\n",
       "      <th></th>\n",
       "      <th></th>\n",
       "    </tr>\n",
       "  </thead>\n",
       "  <tbody>\n",
       "    <tr>\n",
       "      <th>2017-08-04 11:38:00</th>\n",
       "      <td>abelino01</td>\n",
       "      <td>2017-08-04 11:38</td>\n",
       "      <td>0</td>\n",
       "      <td>0</td>\n",
       "      <td>que gentuza</td>\n",
       "      <td>NaN</td>\n",
       "      <td>NaN</td>\n",
       "      <td>NaN</td>\n",
       "      <td>893405845861650432</td>\n",
       "      <td>2017-08-04</td>\n",
       "      <td>...</td>\n",
       "      <td>11</td>\n",
       "      <td>38</td>\n",
       "      <td>0</td>\n",
       "      <td>0</td>\n",
       "      <td>0</td>\n",
       "      <td>gentuza</td>\n",
       "      <td>Clientes</td>\n",
       "      <td>0</td>\n",
       "      <td>1</td>\n",
       "      <td>0</td>\n",
       "    </tr>\n",
       "    <tr>\n",
       "      <th>2017-08-17 03:41:00</th>\n",
       "      <td>albaalegree</td>\n",
       "      <td>2017-08-17 03:41</td>\n",
       "      <td>0</td>\n",
       "      <td>1</td>\n",
       "      <td>he intentenyado leer tarifa web de verti  y he...</td>\n",
       "      <td>NaN</td>\n",
       "      <td>NaN</td>\n",
       "      <td>NaN</td>\n",
       "      <td>897996688719204352</td>\n",
       "      <td>2017-08-17</td>\n",
       "      <td>...</td>\n",
       "      <td>3</td>\n",
       "      <td>41</td>\n",
       "      <td>0</td>\n",
       "      <td>1</td>\n",
       "      <td>2</td>\n",
       "      <td>intentenyado leer tarifa web verti incapaz pro...</td>\n",
       "      <td>Clientes</td>\n",
       "      <td>0</td>\n",
       "      <td>1</td>\n",
       "      <td>0</td>\n",
       "    </tr>\n",
       "    <tr>\n",
       "      <th>2017-08-04 14:08:00</th>\n",
       "      <td>antoniajbernal</td>\n",
       "      <td>2017-08-04 14:08</td>\n",
       "      <td>0</td>\n",
       "      <td>0</td>\n",
       "      <td>a lo mejor si se quema la casa entera y muere ...</td>\n",
       "      <td>NaN</td>\n",
       "      <td>NaN</td>\n",
       "      <td>NaN</td>\n",
       "      <td>893443541527089152</td>\n",
       "      <td>2017-08-04</td>\n",
       "      <td>...</td>\n",
       "      <td>14</td>\n",
       "      <td>8</td>\n",
       "      <td>-2</td>\n",
       "      <td>3</td>\n",
       "      <td>2</td>\n",
       "      <td>mejor si quema casa entera muere alguien enton...</td>\n",
       "      <td>Clientes</td>\n",
       "      <td>0</td>\n",
       "      <td>0</td>\n",
       "      <td>1</td>\n",
       "    </tr>\n",
       "    <tr>\n",
       "      <th>2017-08-08 19:31:00</th>\n",
       "      <td>apk_rules</td>\n",
       "      <td>2017-08-08 19:31</td>\n",
       "      <td>0</td>\n",
       "      <td>0</td>\n",
       "      <td>verti seguros apk android ift.tt/2vbiyer</td>\n",
       "      <td>NaN</td>\n",
       "      <td>NaN</td>\n",
       "      <td>#android</td>\n",
       "      <td>894974383810375681</td>\n",
       "      <td>2017-08-08</td>\n",
       "      <td>...</td>\n",
       "      <td>19</td>\n",
       "      <td>31</td>\n",
       "      <td>0</td>\n",
       "      <td>0</td>\n",
       "      <td>0</td>\n",
       "      <td>verti seguros apk android ifttt2vbiyer</td>\n",
       "      <td>Clientes</td>\n",
       "      <td>0</td>\n",
       "      <td>1</td>\n",
       "      <td>0</td>\n",
       "    </tr>\n",
       "    <tr>\n",
       "      <th>2017-08-08 13:25:00</th>\n",
       "      <td>argentobcn46</td>\n",
       "      <td>2017-08-08 13:25</td>\n",
       "      <td>0</td>\n",
       "      <td>0</td>\n",
       "      <td>sigo esperando alguna repuesta es una verguenz...</td>\n",
       "      <td>NaN</td>\n",
       "      <td>NaN</td>\n",
       "      <td>#lobaratosalecaro #veranosinmoto</td>\n",
       "      <td>894882236201172992</td>\n",
       "      <td>2017-08-08</td>\n",
       "      <td>...</td>\n",
       "      <td>13</td>\n",
       "      <td>25</td>\n",
       "      <td>-1</td>\n",
       "      <td>0</td>\n",
       "      <td>1</td>\n",
       "      <td>sigo esperando alguna repuesta verguenza trata...</td>\n",
       "      <td>Clientes</td>\n",
       "      <td>0</td>\n",
       "      <td>0</td>\n",
       "      <td>1</td>\n",
       "    </tr>\n",
       "  </tbody>\n",
       "</table>\n",
       "<p>5 rows × 24 columns</p>\n",
       "</div>"
      ],
      "text/plain": [
       "                           username              date  retweets  favorites  \\\n",
       "date                                                                         \n",
       "2017-08-04 11:38:00       abelino01  2017-08-04 11:38         0          0   \n",
       "2017-08-17 03:41:00     albaalegree  2017-08-17 03:41         0          1   \n",
       "2017-08-04 14:08:00  antoniajbernal  2017-08-04 14:08         0          0   \n",
       "2017-08-08 19:31:00       apk_rules  2017-08-08 19:31         0          0   \n",
       "2017-08-08 13:25:00    argentobcn46  2017-08-08 13:25         0          0   \n",
       "\n",
       "                                                                  text  geo  \\\n",
       "date                                                                          \n",
       "2017-08-04 11:38:00                                        que gentuza  NaN   \n",
       "2017-08-17 03:41:00  he intentenyado leer tarifa web de verti  y he...  NaN   \n",
       "2017-08-04 14:08:00  a lo mejor si se quema la casa entera y muere ...  NaN   \n",
       "2017-08-08 19:31:00           verti seguros apk android ift.tt/2vbiyer  NaN   \n",
       "2017-08-08 13:25:00  sigo esperando alguna repuesta es una verguenz...  NaN   \n",
       "\n",
       "                    mentions                          hashtags  \\\n",
       "date                                                             \n",
       "2017-08-04 11:38:00      NaN                               NaN   \n",
       "2017-08-17 03:41:00      NaN                               NaN   \n",
       "2017-08-04 14:08:00      NaN                               NaN   \n",
       "2017-08-08 19:31:00      NaN                          #android   \n",
       "2017-08-08 13:25:00      NaN  #lobaratosalecaro #veranosinmoto   \n",
       "\n",
       "                                    tid       fecha  ...   hora  minuto  \\\n",
       "date                                                 ...                  \n",
       "2017-08-04 11:38:00  893405845861650432  2017-08-04  ...     11      38   \n",
       "2017-08-17 03:41:00  897996688719204352  2017-08-17  ...      3      41   \n",
       "2017-08-04 14:08:00  893443541527089152  2017-08-04  ...     14       8   \n",
       "2017-08-08 19:31:00  894974383810375681  2017-08-08  ...     19      31   \n",
       "2017-08-08 13:25:00  894882236201172992  2017-08-08  ...     13      25   \n",
       "\n",
       "                     value palapos  palaneg  \\\n",
       "date                                          \n",
       "2017-08-04 11:38:00      0       0        0   \n",
       "2017-08-17 03:41:00      0       1        2   \n",
       "2017-08-04 14:08:00     -2       3        2   \n",
       "2017-08-08 19:31:00      0       0        0   \n",
       "2017-08-08 13:25:00     -1       0        1   \n",
       "\n",
       "                                                               txtnosw  \\\n",
       "date                                                                     \n",
       "2017-08-04 11:38:00                                           gentuza    \n",
       "2017-08-17 03:41:00  intentenyado leer tarifa web verti incapaz pro...   \n",
       "2017-08-04 14:08:00  mejor si quema casa entera muere alguien enton...   \n",
       "2017-08-08 19:31:00            verti seguros apk android ifttt2vbiyer    \n",
       "2017-08-08 13:25:00  sigo esperando alguna repuesta verguenza trata...   \n",
       "\n",
       "                         tipo  twpos  twneu twneg  \n",
       "date                                               \n",
       "2017-08-04 11:38:00  Clientes      0      1     0  \n",
       "2017-08-17 03:41:00  Clientes      0      1     0  \n",
       "2017-08-04 14:08:00  Clientes      0      0     1  \n",
       "2017-08-08 19:31:00  Clientes      0      1     0  \n",
       "2017-08-08 13:25:00  Clientes      0      0     1  \n",
       "\n",
       "[5 rows x 24 columns]"
      ]
     },
     "execution_count": 10,
     "metadata": {},
     "output_type": "execute_result"
    }
   ],
   "source": [
    "#Importamos el fichero real para asignarle las predicciones\n",
    "dfreal = pd.read_csv('DATA_REAL/salida_tratada.txt', header=0, sep=\"|\", encoding = \"ISO-8859-1\")\n",
    "dfreal.index = pd.DatetimeIndex(dfreal.date)\n",
    "dfreal.head()"
   ]
  },
  {
   "cell_type": "code",
   "execution_count": 11,
   "metadata": {},
   "outputs": [
    {
     "name": "stdout",
     "output_type": "stream",
     "text": [
      "Clientes      60\n",
      "Respuestas    14\n",
      "Publicidad    14\n",
      "Excluir        3\n",
      "Name: tipo, dtype: int64\n"
     ]
    }
   ],
   "source": [
    "#Contamos los tipos para quedarnos luego solamente con los tweets de los clietnes para clasificarlos\n",
    "print(dfreal[\"tipo\"].value_counts())"
   ]
  },
  {
   "cell_type": "code",
   "execution_count": 12,
   "metadata": {},
   "outputs": [
    {
     "data": {
      "text/plain": [
       "<matplotlib.axes._subplots.AxesSubplot at 0xc81ab38>"
      ]
     },
     "execution_count": 12,
     "metadata": {},
     "output_type": "execute_result"
    },
    {
     "data": {
      "image/png": "[encoded data removed]",
      "text/plain": [
       "<matplotlib.figure.Figure at 0x595f438>"
      ]
     },
     "metadata": {},
     "output_type": "display_data"
    }
   ],
   "source": [
    "dfreal[\"tipo\"].value_counts().plot(kind='bar', label ='Tipo')"
   ]
  },
  {
   "cell_type": "code",
   "execution_count": 13,
   "metadata": {
    "collapsed": true
   },
   "outputs": [],
   "source": [
    "#Nos quedamos solamente con los tweets de los clientes\n",
    "dffinal = dfreal[(dfreal.tipo == ('Clientes'))]"
   ]
  },
  {
   "cell_type": "code",
   "execution_count": 14,
   "metadata": {
    "collapsed": true
   },
   "outputs": [],
   "source": [
    "#Definimos unas variables\n",
    "textoreal = list(dffinal['text'])\n",
    "username = list(dffinal['username'])\n",
    "datereal = list(dffinal['date'])\n",
    "valuereal = list(dffinal['value'])"
   ]
  },
  {
   "cell_type": "code",
   "execution_count": 15,
   "metadata": {
    "collapsed": true,
    "scrolled": true
   },
   "outputs": [],
   "source": [
    "#Ejecutamos el modelo sobre el fichero REAL\n",
    "cols = ['txt', 'predlabel', 'value', 'username']\n",
    "lst = []\n",
    "\n",
    "i = 0\n",
    "while (i < len(textoreal)):\n",
    "    txt = textoreal[i]\n",
    "    valu = valuereal[i]\n",
    "    user = username[i]\n",
    "    features = vectorizer.transform([txt])\n",
    "    #print \"predicted: \", classifier.predict(features)[0]\n",
    "    #print \"value: \", valu\n",
    "    #print \"texto:\"\n",
    "    i = i+1\n",
    "    lst.append([txt, classifier.predict(features)[0], valu, user])\n",
    "\n",
    "dfinal = pd.DataFrame(lst, columns=cols)"
   ]
  },
  {
   "cell_type": "code",
   "execution_count": 16,
   "metadata": {},
   "outputs": [
    {
     "data": {
      "text/html": [
       "<div>\n",
       "<style>\n",
       "    .dataframe thead tr:only-child th {\n",
       "        text-align: right;\n",
       "    }\n",
       "\n",
       "    .dataframe thead th {\n",
       "        text-align: left;\n",
       "    }\n",
       "\n",
       "    .dataframe tbody tr th {\n",
       "        vertical-align: top;\n",
       "    }\n",
       "</style>\n",
       "<table border=\"1\" class=\"dataframe\">\n",
       "  <thead>\n",
       "    <tr style=\"text-align: right;\">\n",
       "      <th></th>\n",
       "      <th>txt</th>\n",
       "      <th>predlabel</th>\n",
       "      <th>value</th>\n",
       "      <th>username</th>\n",
       "    </tr>\n",
       "  </thead>\n",
       "  <tbody>\n",
       "    <tr>\n",
       "      <th>0</th>\n",
       "      <td>que gentuza</td>\n",
       "      <td>neg</td>\n",
       "      <td>0</td>\n",
       "      <td>abelino01</td>\n",
       "    </tr>\n",
       "    <tr>\n",
       "      <th>1</th>\n",
       "      <td>he intentenyado leer tarifa web de verti  y he...</td>\n",
       "      <td>pos</td>\n",
       "      <td>0</td>\n",
       "      <td>albaalegree</td>\n",
       "    </tr>\n",
       "    <tr>\n",
       "      <th>2</th>\n",
       "      <td>a lo mejor si se quema la casa entera y muere ...</td>\n",
       "      <td>pos</td>\n",
       "      <td>-2</td>\n",
       "      <td>antoniajbernal</td>\n",
       "    </tr>\n",
       "    <tr>\n",
       "      <th>3</th>\n",
       "      <td>verti seguros apk android ift.tt/2vbiyer</td>\n",
       "      <td>pos</td>\n",
       "      <td>0</td>\n",
       "      <td>apk_rules</td>\n",
       "    </tr>\n",
       "    <tr>\n",
       "      <th>4</th>\n",
       "      <td>sigo esperando alguna repuesta es una verguenz...</td>\n",
       "      <td>neg</td>\n",
       "      <td>-1</td>\n",
       "      <td>argentobcn46</td>\n",
       "    </tr>\n",
       "  </tbody>\n",
       "</table>\n",
       "</div>"
      ],
      "text/plain": [
       "                                                 txt predlabel  value  \\\n",
       "0                                        que gentuza       neg      0   \n",
       "1  he intentenyado leer tarifa web de verti  y he...       pos      0   \n",
       "2  a lo mejor si se quema la casa entera y muere ...       pos     -2   \n",
       "3           verti seguros apk android ift.tt/2vbiyer       pos      0   \n",
       "4  sigo esperando alguna repuesta es una verguenz...       neg     -1   \n",
       "\n",
       "         username  \n",
       "0       abelino01  \n",
       "1     albaalegree  \n",
       "2  antoniajbernal  \n",
       "3       apk_rules  \n",
       "4    argentobcn46  "
      ]
     },
     "execution_count": 16,
     "metadata": {},
     "output_type": "execute_result"
    }
   ],
   "source": [
    "dfinal.head()"
   ]
  },
  {
   "cell_type": "code",
   "execution_count": 17,
   "metadata": {},
   "outputs": [
    {
     "data": {
      "text/plain": [
       "<matplotlib.axes._subplots.AxesSubplot at 0xd8324a8>"
      ]
     },
     "execution_count": 17,
     "metadata": {},
     "output_type": "execute_result"
    },
    {
     "data": {
      "image/png": "[encoded data removed]",
      "text/plain": [
       "<matplotlib.figure.Figure at 0xc4efe48>"
      ]
     },
     "metadata": {},
     "output_type": "display_data"
    }
   ],
   "source": [
    "#Reparto de las predicciones\n",
    "dfinal['predlabel'].value_counts().plot(kind='bar', label ='Predicciones')\n",
    "#dfinal.hist(by='predlabel', bins=20)"
   ]
  },
  {
   "cell_type": "code",
   "execution_count": 18,
   "metadata": {},
   "outputs": [
    {
     "data": {
      "text/plain": [
       "(array([ 1.,  0.,  0.,  0.,  0.,  1.,  0.,  1.,  0.,  0.,  0.,  1.,  0.,\n",
       "         2.,  0.,  2.,  2.,  5.,  9.,  3.]),\n",
       " array([-22. , -20.8, -19.6, -18.4, -17.2, -16. , -14.8, -13.6, -12.4,\n",
       "        -11.2, -10. ,  -8.8,  -7.6,  -6.4,  -5.2,  -4. ,  -2.8,  -1.6,\n",
       "         -0.4,   0.8,   2. ]),\n",
       " <a list of 20 Patch objects>)"
      ]
     },
     "execution_count": 18,
     "metadata": {},
     "output_type": "execute_result"
    },
    {
     "data": {
      "image/png": "[encoded data removed]",
      "text/plain": [
       "<matplotlib.figure.Figure at 0xbd3fb00>"
      ]
     },
     "metadata": {},
     "output_type": "display_data"
    }
   ],
   "source": [
    "#Graficamos las notas de los tweets separando las predicciones\n",
    "import matplotlib.pyplot as plt\n",
    "# Crea los gráficos en el propio notebook\n",
    "%matplotlib inline \n",
    "import numpy as np\n",
    "\n",
    "dfinalpos = dfinal[(dfinal.predlabel == ('pos'))]\n",
    "dfinalneg = dfinal[(dfinal.predlabel == ('neg'))]\n",
    "#dfinalpos = dfinalpos.values\n",
    "plt.figure(1)\n",
    "plt.subplot(2,2,1)\n",
    "plt.hist(dfinalpos.value, label = \"Positivos Predichos\", color = \"blue\", bins = 20)\n",
    "plt.subplot(2,2,2)\n",
    "plt.hist(dfinalneg.value, label = \"Negativos Predichos\", color = \"red\", bins = 20)"
   ]
  },
  {
   "cell_type": "code",
   "execution_count": 19,
   "metadata": {},
   "outputs": [
    {
     "data": {
      "image/png": "[encoded data removed]",
      "text/plain": [
       "<matplotlib.figure.Figure at 0xd9a10b8>"
      ]
     },
     "metadata": {},
     "output_type": "display_data"
    }
   ],
   "source": [
    "bins =20\n",
    "plt.hist(dfinalpos.value, bins=30, label='Positivos', color = 'blue')\n",
    "plt.hist(dfinalneg.value, label='Negativos', color = 'red', bins=30)\n",
    "plt.legend(loc='upper left')\n",
    "plt.show()"
   ]
  },
  {
   "cell_type": "code",
   "execution_count": 20,
   "metadata": {},
   "outputs": [
    {
     "data": {
      "text/html": [
       "<div>\n",
       "<style>\n",
       "    .dataframe thead tr:only-child th {\n",
       "        text-align: right;\n",
       "    }\n",
       "\n",
       "    .dataframe thead th {\n",
       "        text-align: left;\n",
       "    }\n",
       "\n",
       "    .dataframe tbody tr th {\n",
       "        vertical-align: top;\n",
       "    }\n",
       "</style>\n",
       "<table border=\"1\" class=\"dataframe\">\n",
       "  <thead>\n",
       "    <tr style=\"text-align: right;\">\n",
       "      <th></th>\n",
       "      <th>txt</th>\n",
       "      <th>predlabel</th>\n",
       "      <th>value</th>\n",
       "      <th>username</th>\n",
       "    </tr>\n",
       "  </thead>\n",
       "  <tbody>\n",
       "    <tr>\n",
       "      <th>26</th>\n",
       "      <td>a este paso al metro de granada no lo va a que...</td>\n",
       "      <td>neg</td>\n",
       "      <td>2</td>\n",
       "      <td>M_A_Reyes</td>\n",
       "    </tr>\n",
       "    <tr>\n",
       "      <th>35</th>\n",
       "      <td>vertiseguros primer parte y primera sorpresa d...</td>\n",
       "      <td>neg</td>\n",
       "      <td>2</td>\n",
       "      <td>nikolaimad</td>\n",
       "    </tr>\n",
       "    <tr>\n",
       "      <th>49</th>\n",
       "      <td>me han subido la poliza un 40% y sin dar un so...</td>\n",
       "      <td>neg</td>\n",
       "      <td>1</td>\n",
       "      <td>rafaparadela</td>\n",
       "    </tr>\n",
       "  </tbody>\n",
       "</table>\n",
       "</div>"
      ],
      "text/plain": [
       "                                                  txt predlabel  value  \\\n",
       "26  a este paso al metro de granada no lo va a que...       neg      2   \n",
       "35  vertiseguros primer parte y primera sorpresa d...       neg      2   \n",
       "49  me han subido la poliza un 40% y sin dar un so...       neg      1   \n",
       "\n",
       "        username  \n",
       "26     M_A_Reyes  \n",
       "35    nikolaimad  \n",
       "49  rafaparadela  "
      ]
     },
     "execution_count": 20,
     "metadata": {},
     "output_type": "execute_result"
    }
   ],
   "source": [
    "#Vemos los casos de los falsos negativos\n",
    "dffalneg = dfinal[(dfinal.predlabel == ('neg'))]\n",
    "dffalneg = dffalneg[(dffalneg.value > 0)]\n",
    "dffalneg"
   ]
  },
  {
   "cell_type": "code",
   "execution_count": 21,
   "metadata": {},
   "outputs": [
    {
     "data": {
      "text/html": [
       "<div>\n",
       "<style>\n",
       "    .dataframe thead tr:only-child th {\n",
       "        text-align: right;\n",
       "    }\n",
       "\n",
       "    .dataframe thead th {\n",
       "        text-align: left;\n",
       "    }\n",
       "\n",
       "    .dataframe tbody tr th {\n",
       "        vertical-align: top;\n",
       "    }\n",
       "</style>\n",
       "<table border=\"1\" class=\"dataframe\">\n",
       "  <thead>\n",
       "    <tr style=\"text-align: right;\">\n",
       "      <th></th>\n",
       "      <th>txt</th>\n",
       "      <th>predlabel</th>\n",
       "      <th>value</th>\n",
       "      <th>username</th>\n",
       "    </tr>\n",
       "  </thead>\n",
       "  <tbody>\n",
       "    <tr>\n",
       "      <th>2</th>\n",
       "      <td>a lo mejor si se quema la casa entera y muere ...</td>\n",
       "      <td>pos</td>\n",
       "      <td>-2</td>\n",
       "      <td>antoniajbernal</td>\n",
       "    </tr>\n",
       "    <tr>\n",
       "      <th>48</th>\n",
       "      <td>desconectando del trabajo noemigargon vertiseg...</td>\n",
       "      <td>pos</td>\n",
       "      <td>-1</td>\n",
       "      <td>pedroserranot</td>\n",
       "    </tr>\n",
       "  </tbody>\n",
       "</table>\n",
       "</div>"
      ],
      "text/plain": [
       "                                                  txt predlabel  value  \\\n",
       "2   a lo mejor si se quema la casa entera y muere ...       pos     -2   \n",
       "48  desconectando del trabajo noemigargon vertiseg...       pos     -1   \n",
       "\n",
       "          username  \n",
       "2   antoniajbernal  \n",
       "48   pedroserranot  "
      ]
     },
     "execution_count": 21,
     "metadata": {},
     "output_type": "execute_result"
    }
   ],
   "source": [
    "#Falsos positivos\n",
    "dffalpos = dfinal[(dfinal.predlabel == ('pos'))]\n",
    "dffalpos = dffalpos[(dffalpos.value < 0)]\n",
    "dffalpos"
   ]
  },
  {
   "cell_type": "code",
   "execution_count": null,
   "metadata": {},
   "outputs": [],
   "source": []
  },
  {
   "cell_type": "code",
   "execution_count": 22,
   "metadata": {},
   "outputs": [
    {
     "data": {
      "text/html": [
       "<div>\n",
       "<style>\n",
       "    .dataframe thead tr:only-child th {\n",
       "        text-align: right;\n",
       "    }\n",
       "\n",
       "    .dataframe thead th {\n",
       "        text-align: left;\n",
       "    }\n",
       "\n",
       "    .dataframe tbody tr th {\n",
       "        vertical-align: top;\n",
       "    }\n",
       "</style>\n",
       "<table border=\"1\" class=\"dataframe\">\n",
       "  <thead>\n",
       "    <tr style=\"text-align: right;\">\n",
       "      <th></th>\n",
       "      <th>txt</th>\n",
       "      <th>predlabel</th>\n",
       "      <th>value</th>\n",
       "      <th>username</th>\n",
       "    </tr>\n",
       "  </thead>\n",
       "  <tbody>\n",
       "    <tr>\n",
       "      <th>0</th>\n",
       "      <td>que gentuza</td>\n",
       "      <td>neg</td>\n",
       "      <td>0</td>\n",
       "      <td>abelino01</td>\n",
       "    </tr>\n",
       "    <tr>\n",
       "      <th>1</th>\n",
       "      <td>he intentenyado leer tarifa web de verti  y he...</td>\n",
       "      <td>pos</td>\n",
       "      <td>0</td>\n",
       "      <td>albaalegree</td>\n",
       "    </tr>\n",
       "    <tr>\n",
       "      <th>3</th>\n",
       "      <td>verti seguros apk android ift.tt/2vbiyer</td>\n",
       "      <td>pos</td>\n",
       "      <td>0</td>\n",
       "      <td>apk_rules</td>\n",
       "    </tr>\n",
       "    <tr>\n",
       "      <th>5</th>\n",
       "      <td>el anuncio de vertiseguros en spotifyspain</td>\n",
       "      <td>neg</td>\n",
       "      <td>0</td>\n",
       "      <td>DaniOzark</td>\n",
       "    </tr>\n",
       "    <tr>\n",
       "      <th>7</th>\n",
       "      <td>hola vertiseguros como tengo que proceder para...</td>\n",
       "      <td>neg</td>\n",
       "      <td>0</td>\n",
       "      <td>Javivix21</td>\n",
       "    </tr>\n",
       "  </tbody>\n",
       "</table>\n",
       "</div>"
      ],
      "text/plain": [
       "                                                 txt predlabel  value  \\\n",
       "0                                        que gentuza       neg      0   \n",
       "1  he intentenyado leer tarifa web de verti  y he...       pos      0   \n",
       "3           verti seguros apk android ift.tt/2vbiyer       pos      0   \n",
       "5        el anuncio de vertiseguros en spotifyspain        neg      0   \n",
       "7  hola vertiseguros como tengo que proceder para...       neg      0   \n",
       "\n",
       "      username  \n",
       "0    abelino01  \n",
       "1  albaalegree  \n",
       "3    apk_rules  \n",
       "5    DaniOzark  \n",
       "7    Javivix21  "
      ]
     },
     "execution_count": 22,
     "metadata": {},
     "output_type": "execute_result"
    }
   ],
   "source": [
    "#Vemos como han quedado los tweets catalogados al principio como neutros\n",
    "dfneutros = dfinal[(dfinal.value == 0)]\n",
    "dfneutros.head()"
   ]
  },
  {
   "cell_type": "code",
   "execution_count": 23,
   "metadata": {},
   "outputs": [
    {
     "data": {
      "text/plain": [
       "<matplotlib.axes._subplots.AxesSubplot at 0xe306240>"
      ]
     },
     "execution_count": 23,
     "metadata": {},
     "output_type": "execute_result"
    },
    {
     "data": {
      "image/png": "[encoded data removed]",
      "text/plain": [
       "<matplotlib.figure.Figure at 0xd949a20>"
      ]
     },
     "metadata": {},
     "output_type": "display_data"
    }
   ],
   "source": [
    "#Hacemos un reparto de las predicciones para los tweets neutros\n",
    "dfneutros['predlabel'].value_counts().plot(kind='bar')"
   ]
  },
  {
   "cell_type": "code",
   "execution_count": null,
   "metadata": {
    "collapsed": true
   },
   "outputs": [],
   "source": []
  },
  {
   "cell_type": "code",
   "execution_count": 24,
   "metadata": {},
   "outputs": [
    {
     "data": {
      "text/plain": [
       "username     3627\n",
       "date         3627\n",
       "retweets     3627\n",
       "favorites    3627\n",
       "text         3627\n",
       "geo             0\n",
       "mentions     2183\n",
       "hashtags     1188\n",
       "tid          3546\n",
       "fecha        3627\n",
       "anyo         3627\n",
       "mes          3627\n",
       "dia          3627\n",
       "horacomp     3627\n",
       "hora         3627\n",
       "minuto       3627\n",
       "value        3627\n",
       "palapos      3627\n",
       "palaneg      3627\n",
       "txtnosw      3620\n",
       "tipo         3627\n",
       "twpos        3627\n",
       "twneu        3627\n",
       "twneg        3627\n",
       "n            3627\n",
       "dtype: int64"
      ]
     },
     "execution_count": 24,
     "metadata": {},
     "output_type": "execute_result"
    }
   ],
   "source": [
    "#Importamos el fichero real para asignarle las predicciones\n",
    "dneutros = pd.read_csv('DATA_SALIDA/fichero_salida.txt', header=0, sep=\"|\", encoding = \"ISO-8859-1\")\n",
    "dneutros.index = pd.DatetimeIndex(dneutros.date)\n",
    "dneutros = dneutros[(dneutros.tipo == ('Clientes'))]\n",
    "dneutros = dneutros[(dneutros.value == 0)]\n",
    "dneutros['n'] = 1\n",
    "dneutros.count()"
   ]
  },
  {
   "cell_type": "code",
   "execution_count": 25,
   "metadata": {},
   "outputs": [
    {
     "data": {
      "text/plain": [
       "3627"
      ]
     },
     "execution_count": 25,
     "metadata": {},
     "output_type": "execute_result"
    }
   ],
   "source": [
    "#Definimos unas variables\n",
    "textoreal = list(dneutros['text'])\n",
    "username = list(dneutros['username'])\n",
    "datereal = list(dneutros['date'])\n",
    "valuereal = list(dneutros['value'])\n",
    "len(textoreal)"
   ]
  },
  {
   "cell_type": "code",
   "execution_count": 26,
   "metadata": {
    "collapsed": true
   },
   "outputs": [],
   "source": [
    "#Ejecutamos el modelo sobre el fichero REAL\n",
    "cols = ['txt', 'predlabel', 'value', 'username', 'date']\n",
    "lst = []\n",
    "\n",
    "i = 0\n",
    "while (i < len(textoreal)):\n",
    "    txt = textoreal[i]\n",
    "    valu = valuereal[i]\n",
    "    user = username[i]\n",
    "    dat = datereal[i]\n",
    "    features = vectorizer.transform([txt])\n",
    "    #print \"predicted: \", classifier.predict(features)[0]\n",
    "    #print \"value: \", valu\n",
    "    #print \"texto:\"\n",
    "    i = i+1\n",
    "    lst.append([txt, classifier.predict(features)[0], valu, user, dat])\n",
    "\n",
    "dfinalneutro = pd.DataFrame(lst, columns=cols)"
   ]
  },
  {
   "cell_type": "code",
   "execution_count": 27,
   "metadata": {},
   "outputs": [
    {
     "data": {
      "text/plain": [
       "<matplotlib.axes._subplots.AxesSubplot at 0xe4f54e0>"
      ]
     },
     "execution_count": 27,
     "metadata": {},
     "output_type": "execute_result"
    },
    {
     "data": {
      "image/png": "[encoded data removed]",
      "text/plain": [
       "<matplotlib.figure.Figure at 0xe6ebd68>"
      ]
     },
     "metadata": {},
     "output_type": "display_data"
    }
   ],
   "source": [
    "dfinalneutro['predlabel'].value_counts().plot(kind='bar')"
   ]
  },
  {
   "cell_type": "code",
   "execution_count": 28,
   "metadata": {},
   "outputs": [
    {
     "data": {
      "text/plain": [
       "<matplotlib.axes._subplots.AxesSubplot at 0xe364ba8>"
      ]
     },
     "execution_count": 28,
     "metadata": {},
     "output_type": "execute_result"
    },
    {
     "data": {
      "image/png": "[encoded data removed]",
      "text/plain": [
       "<matplotlib.figure.Figure at 0xe3502b0>"
      ]
     },
     "metadata": {},
     "output_type": "display_data"
    }
   ],
   "source": [
    "dfinalneutro['n'] = 1\n",
    "dfinalneutro.index = pd.DatetimeIndex(dfinalneutro.date)\n",
    "dfinalneupos = dfinalneutro[(dfinalneutro.predlabel == ('pos'))]\n",
    "dfinalneuneg = dfinalneutro[(dfinalneutro.predlabel == ('neg'))]\n",
    "\n",
    "dfinalneupossum = dfinalneupos.resample('M').sum()\n",
    "dfinalneuneg = dfinalneuneg.resample('M').sum()\n",
    "\n",
    "dfinalneupossum['2011-01':'2017-12'].n.plot(label='Positivos', color=\"red\", legend='POSITIVOS')\n",
    "dfinalneuneg['2011-01':'2017-12'].n.plot(label='Negativos', color=\"blue\", legend='NEGATIVOS')"
   ]
  },
  {
   "cell_type": "code",
   "execution_count": null,
   "metadata": {
    "collapsed": true
   },
   "outputs": [],
   "source": []
  }
 ],
 "metadata": {
  "kernelspec": {
   "display_name": "Python 2",
   "language": "python",
   "name": "python2"
  },
  "language_info": {
   "codemirror_mode": {
    "name": "ipython",
    "version": 2
   },
   "file_extension": ".py",
   "mimetype": "text/x-python",
   "name": "python",
   "nbconvert_exporter": "python",
   "pygments_lexer": "ipython2",
   "version": "2.7.13"
  }
 },
 "nbformat": 4,
 "nbformat_minor": 2
}
